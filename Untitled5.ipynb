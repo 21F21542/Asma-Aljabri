{
  "nbformat": 4,
  "nbformat_minor": 0,
  "metadata": {
    "colab": {
      "provenance": []
    },
    "kernelspec": {
      "name": "python3",
      "display_name": "Python 3"
    },
    "language_info": {
      "name": "python"
    }
  },
  "cells": [
    {
      "cell_type": "code",
      "source": [
        "#My dataset is available in googledrive; so I am accessing my drive from colab\n",
        "from google.colab import drive\n",
        "drive.mount('/content/drive', force_remount=True)\n",
        "#Once this is executed, you will see your drive appearing on the left hand side"
      ],
      "metadata": {
        "colab": {
          "base_uri": "https://localhost:8080/"
        },
        "id": "eoOzWBYY1YhN",
        "outputId": "82c244c0-c3cd-4067-e61d-5d44a6707eba"
      },
      "execution_count": 15,
      "outputs": [
        {
          "output_type": "stream",
          "name": "stdout",
          "text": [
            "Mounted at /content/drive\n"
          ]
        }
      ]
    },
    {
      "cell_type": "code",
      "source": [
        "# Define paths to the dataset\n",
        "train_dir = '/content/drive/MyDrive/train'  # Update with your actual path\n",
        "test_dir = '/content/drive/MyDrive/test'    # Update with your actual path"
      ],
      "metadata": {
        "id": "6Tj4OsKg1YwW"
      },
      "execution_count": 16,
      "outputs": []
    },
    {
      "cell_type": "code",
      "source": [
        "import os\n",
        "print(len(os.listdir('/content/drive/MyDrive/traindata/men')))\n",
        "print(len(os.listdir('/content/drive/MyDrive/traindata/women')))\n",
        "print(len(os.listdir('/content/drive/MyDrive/testdata/men')))\n",
        "print(len(os.listdir('/content/drive/MyDrive/testdata/women')))"
      ],
      "metadata": {
        "colab": {
          "base_uri": "https://localhost:8080/"
        },
        "id": "gmfE4Yee1Yzx",
        "outputId": "d5c87893-54ee-4f7c-ca1a-d259dc9643b3"
      },
      "execution_count": 17,
      "outputs": [
        {
          "output_type": "stream",
          "name": "stdout",
          "text": [
            "1005\n",
            "1913\n",
            "418\n",
            "924\n"
          ]
        }
      ]
    },
    {
      "cell_type": "code",
      "source": [
        "import tensorflow as tf\n",
        "from tensorflow.keras.preprocessing.image import ImageDataGenerator\n",
        "\n",
        "# Create ImageDataGenerator for training set\n",
        "train_datagen = ImageDataGenerator(\n",
        "    rescale=1./255,\n",
        "    validation_split=0.2  # Split 20% of the images for validation\n",
        ")\n",
        "\n",
        "# Load and prepare training data\n",
        "train_data = train_datagen.flow_from_directory(\n",
        "    train_dir,\n",
        "    target_size=(256,256),\n",
        "    batch_size=32,\n",
        "    class_mode='binary',  # 'binary' for binary classification (men vs. women)\n",
        "    subset='training'  # Specify 'training' for the training set\n",
        ")\n",
        "\n",
        "# Create ImageDataGenerator for validation set\n",
        "validation_datagen = ImageDataGenerator(\n",
        "    rescale=1./255,\n",
        "    validation_split=0.2  # Note: Using the same validation split as in the training set\n",
        ")\n",
        "\n",
        "# Load and prepare validation data\n",
        "validation_data = validation_datagen.flow_from_directory(\n",
        "    train_dir,\n",
        "    target_size=(256,256),\n",
        "    batch_size=32,\n",
        "    class_mode='binary',\n",
        "    subset='validation'  # Specify 'validation' for the validation set\n",
        ")"
      ],
      "metadata": {
        "colab": {
          "base_uri": "https://localhost:8080/"
        },
        "id": "K34Z2NzK1Y51",
        "outputId": "080a96cc-2d28-415e-c194-bb815ee58018"
      },
      "execution_count": 18,
      "outputs": [
        {
          "output_type": "stream",
          "name": "stdout",
          "text": [
            "Found 672 images belonging to 2 classes.\n",
            "Found 168 images belonging to 2 classes.\n"
          ]
        }
      ]
    },
    {
      "cell_type": "code",
      "source": [
        "from tensorflow import keras\n",
        "from keras import Sequential\n",
        "from keras.layers import Dense,Conv2D,MaxPooling2D,Flatten\n",
        "\n",
        "resnet_model = Sequential()    #ResNet50 is a pre-trained model\n",
        "pretrained_model = tf.keras.applications.ResNet50(include_top = False, #because i have my own image of a diff dimension\n",
        "                                                input_shape = (256,256,3),\n",
        "                                                pooling = 'max', classes = 2,\n",
        "                                                weights = 'imagenet')\n",
        "for layer in pretrained_model.layers:\n",
        "    layer.trainable = False  #all layers in the Resnet50 is not trainable; keep those weights; I am going to add my own i/p and other layers\n",
        "\n",
        "resnet_model.add(pretrained_model)\n",
        "resnet_model.add(Flatten())\n",
        "resnet_model.add(Dense(512, activation = 'relu'))\n",
        "resnet_model.add(Dense(1, activation = 'sigmoid'))"
      ],
      "metadata": {
        "id": "ibZmjyBG1Y8-"
      },
      "execution_count": 19,
      "outputs": []
    },
    {
      "cell_type": "code",
      "source": [
        "resnet_model.summary()"
      ],
      "metadata": {
        "colab": {
          "base_uri": "https://localhost:8080/"
        },
        "id": "OJrqY1ti1ZAC",
        "outputId": "6da0d2a4-ea9c-4806-b22d-6aa4de15f40c"
      },
      "execution_count": 20,
      "outputs": [
        {
          "output_type": "stream",
          "name": "stdout",
          "text": [
            "Model: \"sequential_1\"\n",
            "_________________________________________________________________\n",
            " Layer (type)                Output Shape              Param #   \n",
            "=================================================================\n",
            " resnet50 (Functional)       (None, 2048)              23587712  \n",
            "                                                                 \n",
            " flatten_1 (Flatten)         (None, 2048)              0         \n",
            "                                                                 \n",
            " dense_2 (Dense)             (None, 512)               1049088   \n",
            "                                                                 \n",
            " dense_3 (Dense)             (None, 1)                 513       \n",
            "                                                                 \n",
            "=================================================================\n",
            "Total params: 24637313 (93.98 MB)\n",
            "Trainable params: 1049601 (4.00 MB)\n",
            "Non-trainable params: 23587712 (89.98 MB)\n",
            "_________________________________________________________________\n"
          ]
        }
      ]
    },
    {
      "cell_type": "code",
      "source": [
        "from keras.optimizers import Adam\n",
        "resnet_model.compile(optimizer=Adam(learning_rate=0.001),loss='binary_crossentropy',metrics=['accuracy']) #binary_crossentropy - binary classification"
      ],
      "metadata": {
        "id": "NVNL3BGA1ZEf"
      },
      "execution_count": 21,
      "outputs": []
    },
    {
      "cell_type": "code",
      "source": [
        "history = resnet_model.fit(train_data, epochs=3, validation_data=validation_data)"
      ],
      "metadata": {
        "colab": {
          "base_uri": "https://localhost:8080/"
        },
        "id": "YHHeExVU1ZH0",
        "outputId": "9b8c5dc4-99be-457b-a9e4-a228c71ed405"
      },
      "execution_count": 22,
      "outputs": [
        {
          "output_type": "stream",
          "name": "stdout",
          "text": [
            "Epoch 1/3\n",
            "21/21 [==============================] - 231s 11s/step - loss: 4.1788 - accuracy: 0.4926 - val_loss: 1.3335 - val_accuracy: 0.5000\n",
            "Epoch 2/3\n",
            "21/21 [==============================] - 211s 10s/step - loss: 1.2877 - accuracy: 0.5060 - val_loss: 0.8956 - val_accuracy: 0.5000\n",
            "Epoch 3/3\n",
            "21/21 [==============================] - 207s 10s/step - loss: 0.8104 - accuracy: 0.5417 - val_loss: 0.7148 - val_accuracy: 0.5357\n"
          ]
        }
      ]
    },
    {
      "cell_type": "code",
      "source": [
        "import matplotlib.pyplot as plt\n",
        "\n",
        "plt.plot(history.history['accuracy'],color='red',label='train')\n",
        "plt.plot(history.history['val_accuracy'],color='blue',label='validation')\n",
        "plt.legend()\n",
        "plt.show()"
      ],
      "metadata": {
        "colab": {
          "base_uri": "https://localhost:8080/",
          "height": 430
        },
        "id": "KFTOS5JF1ZLK",
        "outputId": "67445b92-4cd4-47e1-f732-7d6a37e01410"
      },
      "execution_count": 23,
      "outputs": [
        {
          "output_type": "display_data",
          "data": {
            "text/plain": [
              "<Figure size 640x480 with 1 Axes>"
            ],
            "image/png": "[encoded data removed]"
          },
          "metadata": {}
        }
      ]
    },
    {
      "cell_type": "code",
      "source": [
        "plt.plot(history.history['loss'],color='red',label='train')\n",
        "plt.plot(history.history['val_loss'],color='blue',label='validation')\n",
        "plt.legend()\n",
        "plt.show()"
      ],
      "metadata": {
        "colab": {
          "base_uri": "https://localhost:8080/",
          "height": 430
        },
        "id": "waEzA6sp1ZOy",
        "outputId": "31f1e815-6026-4e23-f516-c9fe64a37960"
      },
      "execution_count": 24,
      "outputs": [
        {
          "output_type": "display_data",
          "data": {
            "text/plain": [
              "<Figure size 640x480 with 1 Axes>"
            ],
            "image/png": "[encoded data removed]"
          },
          "metadata": {}
        }
      ]
    },
    {
      "cell_type": "code",
      "source": [
        "test_datagen = ImageDataGenerator(rescale=1./255)\n",
        "test_data = test_datagen.flow_from_directory(\n",
        "    test_dir,\n",
        "    target_size=(256,256),\n",
        "    batch_size=32,\n",
        "    class_mode='binary'\n",
        ")"
      ],
      "metadata": {
        "colab": {
          "base_uri": "https://localhost:8080/"
        },
        "id": "kXtZaTRO1ZTR",
        "outputId": "ca332f95-3446-44be-f3c5-e95cabc50119"
      },
      "execution_count": 25,
      "outputs": [
        {
          "output_type": "stream",
          "name": "stdout",
          "text": [
            "Found 188 images belonging to 2 classes.\n"
          ]
        }
      ]
    },
    {
      "cell_type": "code",
      "source": [
        "#predict the test data\n",
        "predictions = resnet_model.predict(test_data)\n",
        "print(predictions)"
      ],
      "metadata": {
        "colab": {
          "base_uri": "https://localhost:8080/"
        },
        "id": "iTNydq5_7KPU",
        "outputId": "d79a3e01-2bc5-4f8e-fe35-fc6fc6691683"
      },
      "execution_count": 26,
      "outputs": [
        {
          "output_type": "stream",
          "name": "stdout",
          "text": [
            "6/6 [==============================] - 52s 8s/step\n",
            "[[0.51202476]\n",
            " [0.48385277]\n",
            " [0.39076307]\n",
            " [0.5664414 ]\n",
            " [0.41602147]\n",
            " [0.30925357]\n",
            " [0.4725771 ]\n",
            " [0.3237505 ]\n",
            " [0.52385306]\n",
            " [0.61894983]\n",
            " [0.57439524]\n",
            " [0.44670695]\n",
            " [0.41639552]\n",
            " [0.5093752 ]\n",
            " [0.6272136 ]\n",
            " [0.47631538]\n",
            " [0.51221406]\n",
            " [0.6020396 ]\n",
            " [0.55035955]\n",
            " [0.4942386 ]\n",
            " [0.4478286 ]\n",
            " [0.47673044]\n",
            " [0.4898393 ]\n",
            " [0.5063403 ]\n",
            " [0.44507778]\n",
            " [0.4111344 ]\n",
            " [0.56427616]\n",
            " [0.40286815]\n",
            " [0.38572964]\n",
            " [0.51404506]\n",
            " [0.49092996]\n",
            " [0.42218044]\n",
            " [0.4228582 ]\n",
            " [0.5012293 ]\n",
            " [0.4755126 ]\n",
            " [0.48250538]\n",
            " [0.4921816 ]\n",
            " [0.47513428]\n",
            " [0.52737623]\n",
            " [0.3347451 ]\n",
            " [0.41362053]\n",
            " [0.47252336]\n",
            " [0.44030735]\n",
            " [0.5675945 ]\n",
            " [0.4097514 ]\n",
            " [0.45562866]\n",
            " [0.51580936]\n",
            " [0.5136729 ]\n",
            " [0.5538257 ]\n",
            " [0.40642786]\n",
            " [0.5063536 ]\n",
            " [0.49225003]\n",
            " [0.34722838]\n",
            " [0.4586967 ]\n",
            " [0.4324152 ]\n",
            " [0.49728635]\n",
            " [0.5613865 ]\n",
            " [0.55519336]\n",
            " [0.53973734]\n",
            " [0.42674455]\n",
            " [0.4561412 ]\n",
            " [0.49697965]\n",
            " [0.40437093]\n",
            " [0.46613103]\n",
            " [0.35364926]\n",
            " [0.43205956]\n",
            " [0.4586967 ]\n",
            " [0.4596005 ]\n",
            " [0.5182334 ]\n",
            " [0.51939076]\n",
            " [0.50551695]\n",
            " [0.38882548]\n",
            " [0.4701854 ]\n",
            " [0.48944214]\n",
            " [0.3874902 ]\n",
            " [0.655884  ]\n",
            " [0.5785923 ]\n",
            " [0.4616912 ]\n",
            " [0.49360266]\n",
            " [0.44975966]\n",
            " [0.45478192]\n",
            " [0.5587896 ]\n",
            " [0.5460215 ]\n",
            " [0.5935926 ]\n",
            " [0.5118137 ]\n",
            " [0.3929147 ]\n",
            " [0.46030644]\n",
            " [0.40184924]\n",
            " [0.65302783]\n",
            " [0.40440577]\n",
            " [0.64937943]\n",
            " [0.4269387 ]\n",
            " [0.3668909 ]\n",
            " [0.54764694]\n",
            " [0.55072725]\n",
            " [0.6637996 ]\n",
            " [0.41376895]\n",
            " [0.47015676]\n",
            " [0.285756  ]\n",
            " [0.57836235]\n",
            " [0.5231897 ]\n",
            " [0.49294788]\n",
            " [0.45259842]\n",
            " [0.43931457]\n",
            " [0.43915647]\n",
            " [0.5498966 ]\n",
            " [0.42724994]\n",
            " [0.37683338]\n",
            " [0.5715422 ]\n",
            " [0.6542319 ]\n",
            " [0.440346  ]\n",
            " [0.45584154]\n",
            " [0.42415753]\n",
            " [0.5358094 ]\n",
            " [0.5511374 ]\n",
            " [0.58107984]\n",
            " [0.52947235]\n",
            " [0.42679188]\n",
            " [0.53075016]\n",
            " [0.4334334 ]\n",
            " [0.36518452]\n",
            " [0.5481624 ]\n",
            " [0.39649525]\n",
            " [0.48671257]\n",
            " [0.5349704 ]\n",
            " [0.6653494 ]\n",
            " [0.30276158]\n",
            " [0.50049156]\n",
            " [0.42906496]\n",
            " [0.4475142 ]\n",
            " [0.4675584 ]\n",
            " [0.61020535]\n",
            " [0.4695925 ]\n",
            " [0.45895538]\n",
            " [0.57219344]\n",
            " [0.47141507]\n",
            " [0.45960572]\n",
            " [0.46117666]\n",
            " [0.5465209 ]\n",
            " [0.39397454]\n",
            " [0.45699844]\n",
            " [0.6026756 ]\n",
            " [0.4536668 ]\n",
            " [0.49206734]\n",
            " [0.6001686 ]\n",
            " [0.5364542 ]\n",
            " [0.44087693]\n",
            " [0.38073635]\n",
            " [0.52663845]\n",
            " [0.4303557 ]\n",
            " [0.4298976 ]\n",
            " [0.4809955 ]\n",
            " [0.45758927]\n",
            " [0.3741768 ]\n",
            " [0.45871335]\n",
            " [0.37707645]\n",
            " [0.51480436]\n",
            " [0.47096267]\n",
            " [0.6830682 ]\n",
            " [0.50441706]\n",
            " [0.52097565]\n",
            " [0.5196835 ]\n",
            " [0.49655065]\n",
            " [0.5797417 ]\n",
            " [0.5761433 ]\n",
            " [0.39394438]\n",
            " [0.45329082]\n",
            " [0.5255028 ]\n",
            " [0.5026222 ]\n",
            " [0.4786758 ]\n",
            " [0.5097234 ]\n",
            " [0.4100641 ]\n",
            " [0.5220435 ]\n",
            " [0.45584154]\n",
            " [0.3860931 ]\n",
            " [0.501176  ]\n",
            " [0.3901531 ]\n",
            " [0.43311256]\n",
            " [0.39491278]\n",
            " [0.64432746]\n",
            " [0.45501086]\n",
            " [0.6764268 ]\n",
            " [0.545895  ]\n",
            " [0.65824467]\n",
            " [0.32573885]\n",
            " [0.56984955]\n",
            " [0.38278908]\n",
            " [0.47299677]]\n"
          ]
        }
      ]
    },
    {
      "cell_type": "code",
      "source": [
        "len(predictions)"
      ],
      "metadata": {
        "colab": {
          "base_uri": "https://localhost:8080/"
        },
        "id": "UxzZ-8mc7KZ0",
        "outputId": "3800e0cf-1ede-4a40-8d3f-bbdc6aafdcbd"
      },
      "execution_count": 27,
      "outputs": [
        {
          "output_type": "execute_result",
          "data": {
            "text/plain": [
              "188"
            ]
          },
          "metadata": {},
          "execution_count": 27
        }
      ]
    },
    {
      "cell_type": "code",
      "source": [
        "from sklearn.metrics import confusion_matrix, classification_report\n",
        "\n",
        "# Assuming you have ground truth labels (true_labels) and predicted labels (predictions)\n",
        "true_labels = test_data.classes\n",
        "predicted_labels = (predictions > 0.5).astype(int)  # Adjust the threshold as needed\n",
        "\n",
        "# Calculate confusion matrix\n",
        "cm = confusion_matrix(true_labels, predicted_labels)\n",
        "\n",
        "# Print confusion matrix\n",
        "print(\"Confusion Matrix:\")\n",
        "print(cm)\n",
        "\n",
        "# Print classification report\n",
        "print(\"Classification Report:\")\n",
        "print(classification_report(true_labels, predicted_labels))"
      ],
      "metadata": {
        "colab": {
          "base_uri": "https://localhost:8080/"
        },
        "id": "EO1jyatR7Kel",
        "outputId": "3549ac04-cbd4-41a8-eec0-2e241a36823f"
      },
      "execution_count": 28,
      "outputs": [
        {
          "output_type": "stream",
          "name": "stdout",
          "text": [
            "Confusion Matrix:\n",
            "[[60 37]\n",
            " [53 38]]\n",
            "Classification Report:\n",
            "              precision    recall  f1-score   support\n",
            "\n",
            "           0       0.53      0.62      0.57        97\n",
            "           1       0.51      0.42      0.46        91\n",
            "\n",
            "    accuracy                           0.52       188\n",
            "   macro avg       0.52      0.52      0.51       188\n",
            "weighted avg       0.52      0.52      0.52       188\n",
            "\n"
          ]
        }
      ]
    },
    {
      "cell_type": "code",
      "source": [],
      "metadata": {
        "id": "AAq6XdV37Khl"
      },
      "execution_count": null,
      "outputs": []
    }
  ]
}